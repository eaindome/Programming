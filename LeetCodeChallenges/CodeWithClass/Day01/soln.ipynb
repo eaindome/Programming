{
 "cells": [
  {
   "cell_type": "code",
   "execution_count": 1,
   "id": "dea358a9-50d1-4cb5-a068-f2888820c18e",
   "metadata": {},
   "outputs": [
    {
     "name": "stdin",
     "output_type": "stream",
     "text": [
      "Enter number:  4421\n"
     ]
    }
   ],
   "source": [
    "num = input('Enter number: ')"
   ]
  },
  {
   "cell_type": "code",
   "execution_count": 2,
   "id": "9e494fca-8248-439d-bff6-f7dbf2c59027",
   "metadata": {},
   "outputs": [
    {
     "name": "stdout",
     "output_type": "stream",
     "text": [
      "Sum: 11\n",
      "Product: 32\n",
      "Result = 21\n"
     ]
    }
   ],
   "source": [
    "sum, product = 0, 1\n",
    "for i in num:\n",
    "    sum += int(i)\n",
    "    product *= int(i)\n",
    "\n",
    "print(f\"Sum: {sum}\\nProduct: {product}\\nResult = {product - sum}\")"
   ]
  },
  {
   "cell_type": "code",
   "execution_count": null,
   "id": "693c0d61-f246-4a27-9d06-a8886dd289aa",
   "metadata": {},
   "outputs": [],
   "source": []
  },
  {
   "cell_type": "code",
   "execution_count": null,
   "id": "e9c334ac-0396-4f43-924d-58e293267ea3",
   "metadata": {},
   "outputs": [],
   "source": []
  }
 ],
 "metadata": {
  "kernelspec": {
   "display_name": "Python 3 (ipykernel)",
   "language": "python",
   "name": "python3"
  },
  "language_info": {
   "codemirror_mode": {
    "name": "ipython",
    "version": 3
   },
   "file_extension": ".py",
   "mimetype": "text/x-python",
   "name": "python",
   "nbconvert_exporter": "python",
   "pygments_lexer": "ipython3",
   "version": "3.11.7"
  }
 },
 "nbformat": 4,
 "nbformat_minor": 5
}
