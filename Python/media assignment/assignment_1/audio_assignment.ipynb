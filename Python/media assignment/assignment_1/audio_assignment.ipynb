{
 "cells": [
  {
   "cell_type": "markdown",
   "id": "0abab114-6d31-4bcb-a26c-2b1f2c5f5f6a",
   "metadata": {},
   "source": [
    "## Audio Media"
   ]
  },
  {
   "cell_type": "code",
   "execution_count": null,
   "id": "a20d43ea-3e84-40d6-bc4e-d68df85a2ca1",
   "metadata": {},
   "outputs": [],
   "source": [
    "#pip install sounddevice"
   ]
  },
  {
   "cell_type": "code",
   "execution_count": 1,
   "id": "4692a082-ab48-4e60-825a-aa28d5ed3df6",
   "metadata": {},
   "outputs": [],
   "source": [
    "# import necessary libraries\n",
    "import wave\n",
    "import numpy as np\n",
    "import sounddevice as sd"
   ]
  },
  {
   "cell_type": "markdown",
   "id": "cb548816-9015-4a28-b780-efffd3a389b7",
   "metadata": {},
   "source": [
    "#### Defining various functions we will need"
   ]
  },
  {
   "cell_type": "code",
   "execution_count": 2,
   "id": "f1776511-b47e-4455-aa52-69f5f89bb91f",
   "metadata": {},
   "outputs": [],
   "source": [
    "# function to read wav file and return data and sample rate\n",
    "def read_wav(file_path):\n",
    "    with wave.open(file_path, 'rb') as wf:\n",
    "        sample_rate = wf.getframerate()\n",
    "        audio_data = np.frombuffer(wf.readframes(wf.getnframes()), dtype=np.int16)\n",
    "    return audio_data, sample_rate"
   ]
  },
  {
   "cell_type": "code",
   "execution_count": 3,
   "id": "15ebd30c-49e5-494c-9f67-ec3ba7bd6e58",
   "metadata": {},
   "outputs": [],
   "source": [
    "# function to play audio with specified sample rate\n",
    "def play_audio(audio_data, sample_rate):\n",
    "    sd.play(audio_data, sample_rate)\n",
    "    sd.wait()"
   ]
  },
  {
   "cell_type": "code",
   "execution_count": 4,
   "id": "c2c1ab1f-50d6-4a2e-8534-c6601b57899b",
   "metadata": {},
   "outputs": [],
   "source": [
    "# function to resample audio data to specified sample rate\n",
    "def resample_audio(audio_data, original_rate, target_rate):\n",
    "    duration = len(audio_data) / original_rate\n",
    "    num_samples = int(duration * target_rate)\n",
    "    resampled_data = np.interp(np.linspace(0, len(audio_data), num_samples, endpoint=False), np.arange(len(audio_data)), audio_data)\n",
    "    return resampled_data, target_rate"
   ]
  },
  {
   "cell_type": "code",
   "execution_count": 5,
   "id": "fd1e64eb-a599-4b40-98bf-51e09b130064",
   "metadata": {},
   "outputs": [],
   "source": [
    "# function to modify audio data by multiplying with a coefficient\n",
    "def modify_audio(audio_data, coefficient):\n",
    "    modified_data = audio_data * coefficient\n",
    "    return modified_data"
   ]
  },
  {
   "cell_type": "code",
   "execution_count": 6,
   "id": "820f069b-c685-4a4a-8a00-1c2ec2ae876b",
   "metadata": {},
   "outputs": [],
   "source": [
    "# function to resample by copying every other sample\n",
    "def resample_by_half(audio_data):\n",
    "    resampled_data = audio_data[::2]\n",
    "    return resampled_data"
   ]
  },
  {
   "cell_type": "code",
   "execution_count": 7,
   "id": "a87969c5-6949-4d76-8c27-20b3db721555",
   "metadata": {},
   "outputs": [],
   "source": [
    "# function to apply FFT and eliminate high frequencies\n",
    "def apply_fft(audio_data):\n",
    "    fft_result = np.fft.fft(audio_data)\n",
    "    fft_result[:int(len(fft_result)*0.05)] = 0    # eliminate high frequency samples\n",
    "    inverted_audio = np.fft.ifft(fft_result).real.astype(np.int16)\n",
    "    return inverted_audio"
   ]
  },
  {
   "cell_type": "markdown",
   "id": "79f3ce51-b918-40d5-96de-67e0b14f97a7",
   "metadata": {},
   "source": [
    "#### Working Area"
   ]
  },
  {
   "cell_type": "code",
   "execution_count": 8,
   "id": "0b27851f-0a88-4b2b-b8dc-ea291d49fe42",
   "metadata": {},
   "outputs": [],
   "source": [
    "# load wav file\n",
    "file_path = \"file_example.wav\"\n",
    "audio_data, original_rate = read_wav(file_path)"
   ]
  },
  {
   "cell_type": "code",
   "execution_count": 9,
   "id": "20ce52d6-e9ab-4483-a376-fd960f29e569",
   "metadata": {},
   "outputs": [
    {
     "name": "stdout",
     "output_type": "stream",
     "text": [
      "Playing audio with sample rate 8000 Hz\n",
      "\n",
      "Playing audio with sample rate 16000 Hz\n",
      "\n",
      "Playing audio with sample rate 24000 Hz\n",
      "\n",
      "Playing audio with sample rate 36000 Hz\n",
      "\n",
      "Playing audio with sample rate 44000 Hz\n",
      "\n",
      "Playing audio with sample rate 80000 Hz\n",
      "\n",
      "Playing audio with sample rate 160000 Hz\n",
      "\n"
     ]
    }
   ],
   "source": [
    "# Step 2: play back sound wth different sample rates\n",
    "sample_rates = [8000, 16000, 24000, 36000, 44000, 80000, 160000]\n",
    "for rate in sample_rates:\n",
    "    resampled_audio, _ = resample_audio(audio_data, original_rate, rate)\n",
    "    print(f\"Playing audio with sample rate {rate} Hz\")\n",
    "    play_audio(resampled_audio, rate)\n",
    "    print()"
   ]
  },
  {
   "cell_type": "markdown",
   "id": "3402ab92-7916-4378-a425-160fa90cd018",
   "metadata": {},
   "source": [
    "##### Inference\n",
    "1. The speed and the audio playback changes as the sample rates increases. The higher the sample rate, the more samples are played per second, resulting in a faster playback speed.\n",
    "2. Again, the higher sample rates resulted in better audio quality as distinct sound could be made as compared to the lower sample rates. This is because more detail is captured in te audio waveform.\n",
    "3. As the sample rates increased, the distortion in the various frequencies reduced, the higher sample rates accurately reproduced higher frequencies as compared to the lower sample rates.\n",
    "\n",
    "   To summarize, listening to the audio playback at different sample rates provided insights into how sample rate impacts the speed, quality, and frequency response of audio playback."
   ]
  },
  {
   "cell_type": "code",
   "execution_count": 10,
   "id": "57357ff5-af53-4230-bf01-958c6fbba1fa",
   "metadata": {},
   "outputs": [
    {
     "name": "stdout",
     "output_type": "stream",
     "text": [
      "Playing modified audio with reduced sample values; and a coefficient of 0.5\n",
      "\n",
      "Playing modified audio with reduced sample values; and a coefficient of 0.6\n",
      "\n",
      "Playing modified audio with reduced sample values; and a coefficient of 0.7\n",
      "\n",
      "Playing modified audio with reduced sample values; and a coefficient of 0.8\n",
      "\n",
      "Playing modified audio with reduced sample values; and a coefficient of 0.9\n",
      "\n",
      "Playing modified audio with reduced sample values; and a coefficient of 1.0\n",
      "\n"
     ]
    }
   ],
   "source": [
    "# step 5: modify audio by multiplying with coefficient\n",
    "# while also adjusting to use differenct coefficient\n",
    "coefficients = [0.5, 0.6, 0.7, 0.8, 0.9, 1.0]\n",
    "for coeff in coefficients:\n",
    "    modified_audio = modify_audio(audio_data, coeff)\n",
    "    print(f\"Playing modified audio with reduced sample values; and a coefficient of {coeff}\")\n",
    "    play_audio(modified_audio, original_rate)\n",
    "    print()"
   ]
  },
  {
   "cell_type": "markdown",
   "id": "a7745532-5120-4da2-9053-e2aee5d29078",
   "metadata": {},
   "source": [
    "##### Inference\n",
    "1. As the coefficient increases from 0.5 to 1.0, the volume of the audio generally increases. Modifying the audio data by a larger coefficient amplifies the amplitude of the waveform, resulting in a louder sound.\n",
    "2. Lower coefficients (e.g., 0.5) reduce the dynamic range of the audio, making softer sounds louder and louder sounds softer. Conversely, higher coefficients (e.g., 1.0) preserve the dynamic range of the original audio.\n",
    "\n",
    "   Overall, the experiment with different coefficients allows for the exploration of the impact of amplification on audio volume and quality."
   ]
  },
  {
   "cell_type": "code",
   "execution_count": 11,
   "id": "044ebe01-c94f-48ef-b064-da36f52b7923",
   "metadata": {},
   "outputs": [
    {
     "name": "stdout",
     "output_type": "stream",
     "text": [
      "Playing audio after resampling by copying every other sample\n"
     ]
    }
   ],
   "source": [
    "# step 6: resample by compying every other sample\n",
    "resampled_audio_by_half = resample_by_half(audio_data)\n",
    "print(\"Playing audio after resampling by copying every other sample\")\n",
    "play_audio(resampled_audio_by_half, original_rate)"
   ]
  },
  {
   "cell_type": "markdown",
   "id": "f72ff8c1-4d3a-4319-ae13-a4ef883e0418",
   "metadata": {},
   "source": [
    "##### Inference\n",
    "Resampling audio by copying every other sample effectively reduces the sample rate by half. This demonstrates the importance of sample rate in audio playback."
   ]
  },
  {
   "cell_type": "code",
   "execution_count": 12,
   "id": "58bfbb94-bebb-4561-92d4-7bff1bc348fd",
   "metadata": {},
   "outputs": [
    {
     "name": "stdout",
     "output_type": "stream",
     "text": [
      "Playing audio after applying FFT and eliminating high frequencies\n"
     ]
    }
   ],
   "source": [
    "# step 7: apply FFT and eliminate high frequencies\n",
    "audio_with_low_freq = apply_fft(audio_data)\n",
    "print(\"Playing audio after applying FFT and eliminating high frequencies\")\n",
    "play_audio(audio_with_low_freq, original_rate)"
   ]
  },
  {
   "cell_type": "markdown",
   "id": "386ee7f1-11c0-43e3-98df-f7f3c7a6abcd",
   "metadata": {},
   "source": [
    "##### Inference\n",
    "1. Applying FFT and eliminating higher frequencies can result in a \"muffled\" or \"dll\" sound, especially as high-frequency components are removed.\n",
    "2. With this experiment, observation was made on how the presence of high-frequency components contributes to the overall brightness and clarity of the sound.\n",
    "3. Eliminating high frequencies reduces the noise or unwanted artifacts in the audio but lead to a loss of detail in the sound."
   ]
  }
 ],
 "metadata": {
  "kernelspec": {
   "display_name": "Python 3 (ipykernel)",
   "language": "python",
   "name": "python3"
  },
  "language_info": {
   "codemirror_mode": {
    "name": "ipython",
    "version": 3
   },
   "file_extension": ".py",
   "mimetype": "text/x-python",
   "name": "python",
   "nbconvert_exporter": "python",
   "pygments_lexer": "ipython3",
   "version": "3.11.7"
  }
 },
 "nbformat": 4,
 "nbformat_minor": 5
}
