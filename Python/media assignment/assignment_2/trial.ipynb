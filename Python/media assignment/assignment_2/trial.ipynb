{
 "cells": [
  {
   "cell_type": "code",
   "execution_count": null,
   "metadata": {},
   "outputs": [],
   "source": [
    "# Load frame1 and frame2:"
   ]
  },
  {
   "cell_type": "code",
   "execution_count": null,
   "metadata": {},
   "outputs": [],
   "source": [
    "from PIL import Image\n",
    "\n",
    "frame1_path = \"frame1.jpg\"\n",
    "frame2_path = \"frame2.jpg\"\n",
    "\n",
    "frame1 = Image.open(frame1_path).convert(\"L\")  # Convert to grayscale\n",
    "frame2 = Image.open(frame2_path).convert(\"L\")  # Convert to grayscale"
   ]
  },
  {
   "cell_type": "code",
   "execution_count": null,
   "metadata": {},
   "outputs": [],
   "source": [
    "# Choose random areas of size 16x16 in frame2:"
   ]
  },
  {
   "cell_type": "code",
   "execution_count": null,
   "metadata": {},
   "outputs": [],
   "source": [
    "import random\n",
    "\n",
    "# Define function to select random 16x16 blocks\n",
    "def select_random_block(image):\n",
    "    width, height = image.size\n",
    "    x = random.randint(0, width - 16)\n",
    "    y = random.randint(0, height - 16)\n",
    "    return image.crop((x, y, x + 16, y + 16))\n",
    "\n",
    "# Select random blocks from frame2\n",
    "block2 = select_random_block(frame2)"
   ]
  },
  {
   "cell_type": "code",
   "execution_count": null,
   "metadata": {},
   "outputs": [],
   "source": [
    "# Find the most similar area in frame1 (Motion estimation):"
   ]
  },
  {
   "cell_type": "code",
   "execution_count": null,
   "metadata": {},
   "outputs": [],
   "source": [
    "# Define function to find most similar area using Sum of Absolute Differences (SAD)\n",
    "def motion_estimation(block, image):\n",
    "    min_sad = float('inf')\n",
    "    best_match = None\n",
    "    \n",
    "    for y in range(image.size[1] - 16):\n",
    "        for x in range(image.size[0] - 16):\n",
    "            region = image.crop((x, y, x + 16, y + 16))\n",
    "            sad = sum(abs(p1 - p2) for p1, p2 in zip(block.getdata(), region.getdata()))\n",
    "            if sad < min_sad:\n",
    "                min_sad = sad\n",
    "                best_match = region\n",
    "    \n",
    "    return best_match\n",
    "\n",
    "# Find the most similar area in frame1\n",
    "best_match = motion_estimation(block2, frame1)\n"
   ]
  },
  {
   "cell_type": "code",
   "execution_count": null,
   "metadata": {},
   "outputs": [],
   "source": [
    "# Find the difference of the selected block with the most similar area in frame1:"
   ]
  },
  {
   "cell_type": "code",
   "execution_count": null,
   "metadata": {},
   "outputs": [],
   "source": [
    "# Calculate the difference between the selected block and the best match\n",
    "difference = Image.eval(ImageChops.difference(block2, best_match), lambda x: abs(x))"
   ]
  },
  {
   "cell_type": "code",
   "execution_count": null,
   "metadata": {},
   "outputs": [],
   "source": [
    "# Use DCT to find the discrete cosine transform coefficients of the difference:"
   ]
  },
  {
   "cell_type": "code",
   "execution_count": null,
   "metadata": {},
   "outputs": [],
   "source": [
    "import numpy as np\n",
    "from scipy.fft import dct\n",
    "\n",
    "# Convert image to numpy array\n",
    "difference_array = np.array(difference)\n",
    "\n",
    "# Apply 2D DCT\n",
    "dct_coeffs_difference = dct(dct(difference_array.T, norm='ortho').T, norm='ortho')"
   ]
  },
  {
   "cell_type": "code",
   "execution_count": null,
   "metadata": {},
   "outputs": [],
   "source": [
    "# Round the coefficients to their nearest integer:"
   ]
  },
  {
   "cell_type": "code",
   "execution_count": null,
   "metadata": {},
   "outputs": [],
   "source": [
    "dct_coeffs_difference_rounded = np.round(dct_coeffs_difference)"
   ]
  },
  {
   "cell_type": "code",
   "execution_count": null,
   "metadata": {},
   "outputs": [],
   "source": [
    "# Repeat steps 5-6 for the selected area:"
   ]
  },
  {
   "cell_type": "code",
   "execution_count": null,
   "metadata": {},
   "outputs": [],
   "source": [
    "# Convert block2 to numpy array\n",
    "block2_array = np.array(block2)\n",
    "\n",
    "# Apply 2D DCT\n",
    "dct_coeffs_block2 = dct(dct(block2_array.T, norm='ortho').T, norm='ortho')\n",
    "\n",
    "# Round the coefficients\n",
    "dct_coeffs_block2_rounded = np.round(dct_coeffs_block2)\n"
   ]
  },
  {
   "cell_type": "code",
   "execution_count": null,
   "metadata": {},
   "outputs": [],
   "source": [
    "# Compare the coefficients in both cases and elaborate on the results:"
   ]
  },
  {
   "cell_type": "code",
   "execution_count": null,
   "metadata": {},
   "outputs": [],
   "source": [
    "# Compute Mean Squared Error (MSE)\n",
    "mse = np.mean((dct_coeffs_difference_rounded - dct_coeffs_block2_rounded) ** 2)\n",
    "\n",
    "print(\"Mean Squared Error (MSE):\", mse)\n",
    "\n",
    "# Visualize Coefficients\n",
    "import matplotlib.pyplot as plt\n",
    "\n",
    "plt.figure(figsize=(10, 5))\n",
    "\n",
    "plt.subplot(1, 2, 1)\n",
    "plt.hist(dct_coeffs_difference_rounded.flatten(), bins=50, color='blue', alpha=0.5, label='Difference Coefficients')\n",
    "plt.hist(dct_coeffs_block2_rounded.flatten(), bins=50, color='red', alpha=0.5, label='Selected Area Coefficients')\n",
    "plt.title('DCT Coefficients Distribution')\n",
    "plt.xlabel('Coefficient Value')\n",
    "plt.ylabel('Frequency')\n",
    "plt.legend()\n",
    "\n",
    "plt.subplot(1, 2, 2)\n",
    "plt.imshow(dct_coeffs_difference_rounded, cmap='viridis', interpolation='nearest')\n",
    "plt.title('DCT Coefficients of Difference')\n",
    "plt.colorbar()\n",
    "\n",
    "plt.tight_layout()\n",
    "plt.show()\n",
    "\n",
    "# Calculate Compression Ratio\n",
    "num_nonzero_difference = np.count_nonzero(dct_coeffs_difference_rounded)\n",
    "num_nonzero_block2 = np.count_nonzero(dct_coeffs_block2_rounded)\n",
    "\n",
    "compression_ratio = num_nonzero_block2 / num_nonzero_difference\n",
    "print(\"Compression Ratio:\", compression_ratio)\n"
   ]
  },
  {
   "cell_type": "code",
   "execution_count": null,
   "metadata": {},
   "outputs": [],
   "source": []
  },
  {
   "cell_type": "code",
   "execution_count": null,
   "metadata": {},
   "outputs": [],
   "source": []
  }
 ],
 "metadata": {
  "language_info": {
   "name": "python"
  }
 },
 "nbformat": 4,
 "nbformat_minor": 2
}
